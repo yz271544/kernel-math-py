{
 "cells": [
  {
   "cell_type": "code",
   "execution_count": null,
   "id": "de0759e3-2f3b-4fb3-8d1c-79ba18e771e8",
   "metadata": {},
   "outputs": [],
   "source": []
  }
 ],
 "metadata": {
  "kernelspec": {
   "display_name": "Python for math on Kubernetes",
   "language": "python",
   "name": "python_math_kubernetes"
  },
  "language_info": {
   "codemirror_mode": {
    "name": "ipython",
    "version": 3
   },
   "file_extension": ".py",
   "mimetype": "text/x-python",
   "name": "python",
   "nbconvert_exporter": "python",
   "pygments_lexer": "ipython3",
   "version": "3.10.9"
  }
 },
 "nbformat": 4,
 "nbformat_minor": 5
}
